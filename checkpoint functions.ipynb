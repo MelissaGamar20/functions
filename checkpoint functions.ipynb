{
 "cells": [
  {
   "cell_type": "code",
   "execution_count": 3,
   "id": "8cfb6c32",
   "metadata": {},
   "outputs": [
    {
     "name": "stdout",
     "output_type": "stream",
     "text": [
      "x:20\n",
      "y:35\n",
      "z:19\n",
      "35\n"
     ]
    }
   ],
   "source": [
    "#QUESTION 1\n",
    "def max():\n",
    "    x=int(input(\"x:\"))\n",
    "    y=int(input(\"y:\"))\n",
    "    z=int(input(\"z:\"))\n",
    "    if x>=y and x>=z:\n",
    "        print(x)\n",
    "    elif y>=x and y>=z:\n",
    "        print(y)\n",
    "    elif z>=y and z>=x:\n",
    "        print(z)\n",
    "max()"
   ]
  },
  {
   "cell_type": "code",
   "execution_count": 7,
   "id": "403495e1",
   "metadata": {},
   "outputs": [
    {
     "name": "stdout",
     "output_type": "stream",
     "text": [
      "x:40\n",
      "y:10\n",
      "50 30\n"
     ]
    }
   ],
   "source": [
    "#QUESTION 2\n",
    "def funct():\n",
    "    x=int(input(\"x:\"))\n",
    "    y=int(input(\"y:\"))\n",
    "    print(x+y,x-y)\n",
    "funct()"
   ]
  },
  {
   "cell_type": "code",
   "execution_count": 6,
   "id": "f2453de8",
   "metadata": {},
   "outputs": [
    {
     "data": {
      "text/plain": [
       "6"
      ]
     },
     "execution_count": 6,
     "metadata": {},
     "output_type": "execute_result"
    }
   ],
   "source": [
    "#QUESTION 3\n",
    "list1=[1,2,3]\n",
    "\n",
    "def somme(list1):\n",
    "    s=0\n",
    "    for i  in list1:\n",
    "        s+=i\n",
    "    return(s)\n",
    "somme(list1)"
   ]
  },
  {
   "cell_type": "code",
   "execution_count": 7,
   "id": "a8d08b81",
   "metadata": {},
   "outputs": [
    {
     "data": {
      "text/plain": [
       "6"
      ]
     },
     "execution_count": 7,
     "metadata": {},
     "output_type": "execute_result"
    }
   ],
   "source": [
    "#QUESTION 3 PART 2\n",
    "list1=[1,2,3]\n",
    "list2=[]\n",
    "list3=[]\n",
    "def mult(list1):\n",
    "    p=1\n",
    "    for i in list1:\n",
    "        p=p*i\n",
    "    return(p)\n",
    "mult(list1)"
   ]
  },
  {
   "cell_type": "code",
   "execution_count": 9,
   "id": "5f9bacdb",
   "metadata": {},
   "outputs": [
    {
     "name": "stdout",
     "output_type": "stream",
     "text": [
      "[1, 3, 5] [2, 4, 6]\n"
     ]
    },
    {
     "data": {
      "text/plain": [
       "9"
      ]
     },
     "execution_count": 9,
     "metadata": {},
     "output_type": "execute_result"
    }
   ],
   "source": [
    "#QUESTION 3 PART 2\n",
    "list1=[1,2,3,4,5,6]\n",
    "list2=[]\n",
    "list3=[]\n",
    "for i in range(len(list1)): #fct range psq on verifie les index pas leurs contenu\n",
    "    if i%2==0:\n",
    "        list2.append(list1[i])\n",
    "    else:\n",
    "        list3.append(list1[i])\n",
    "print(list2,list3)\n",
    "somme(list2)\n"
   ]
  },
  {
   "cell_type": "code",
   "execution_count": 10,
   "id": "baf24f80",
   "metadata": {},
   "outputs": [
    {
     "data": {
      "text/plain": [
       "48"
      ]
     },
     "execution_count": 10,
     "metadata": {},
     "output_type": "execute_result"
    }
   ],
   "source": [
    "mult(list3)"
   ]
  },
  {
   "cell_type": "code",
   "execution_count": 5,
   "id": "a9da9700",
   "metadata": {},
   "outputs": [
    {
     "name": "stdout",
     "output_type": "stream",
     "text": [
      "Black-Green-Red-White-Yellow\n"
     ]
    }
   ],
   "source": [
    "#QUESTION 4\n",
    "def ordre():\n",
    "    str=\"Green- Red- Yellow- Black- White\".split(\"- \")\n",
    "    str.sort()\n",
    "    print(\"-\".join(str))\n",
    "ordre()"
   ]
  },
  {
   "cell_type": "code",
   "execution_count": 55,
   "id": "f75fede3",
   "metadata": {},
   "outputs": [
    {
     "name": "stdout",
     "output_type": "stream",
     "text": [
      "D:100\n",
      "18.0\n"
     ]
    }
   ],
   "source": [
    "#QUESTION 5\n",
    "C=50\n",
    "H=30\n",
    "def operation():\n",
    "    D=int(input(\"D:\"))\n",
    "    Q=((2*C*D)/H)**(1/2)\n",
    "    print(Q//1)\n",
    "operation()"
   ]
  },
  {
   "cell_type": "code",
   "execution_count": 74,
   "id": "0b4b6288",
   "metadata": {},
   "outputs": [
    {
     "name": "stdout",
     "output_type": "stream",
     "text": [
      "100\n",
      "150\n",
      "180\n"
     ]
    }
   ],
   "source": [
    "list1=[100,150,180]\n",
    "for D in list1:\n",
    "    print(D)"
   ]
  },
  {
   "cell_type": "code",
   "execution_count": 1,
   "id": "b1aebbf3",
   "metadata": {},
   "outputs": [
    {
     "name": "stdout",
     "output_type": "stream",
     "text": [
      "18\n",
      "22\n",
      "24\n"
     ]
    }
   ],
   "source": [
    "C=50\n",
    "H=30\n",
    "list1=[100,150,180]\n",
    "def operation():\n",
    "    for D in list1:\n",
    "        Q=((2*C*D)/H)**(1/2)\n",
    "        print(int(Q))\n",
    "operation()"
   ]
  },
  {
   "cell_type": "code",
   "execution_count": null,
   "id": "5be533cd",
   "metadata": {},
   "outputs": [],
   "source": []
  },
  {
   "cell_type": "code",
   "execution_count": null,
   "id": "feaf3f00",
   "metadata": {},
   "outputs": [],
   "source": []
  }
 ],
 "metadata": {
  "kernelspec": {
   "display_name": "Python 3 (ipykernel)",
   "language": "python",
   "name": "python3"
  },
  "language_info": {
   "codemirror_mode": {
    "name": "ipython",
    "version": 3
   },
   "file_extension": ".py",
   "mimetype": "text/x-python",
   "name": "python",
   "nbconvert_exporter": "python",
   "pygments_lexer": "ipython3",
   "version": "3.9.12"
  }
 },
 "nbformat": 4,
 "nbformat_minor": 5
}
